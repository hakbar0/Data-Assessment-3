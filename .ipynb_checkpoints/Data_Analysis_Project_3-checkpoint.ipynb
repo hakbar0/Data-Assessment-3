{
 "cells": [
  {
   "cell_type": "markdown",
   "metadata": {},
   "source": [
    "## P4DS (ODL1) Assignment 3\n",
    "\n",
    "# Data Analysis Project\n",
    "\n",
    "#### Notebook template design: Brandon Bennett (2020.11.03, revised 2021.03.02)\n",
    "\n",
    "# _House Prices UK_\n",
    "\n",
    "\n",
    "#### Student: Haseeb Akbar\n",
    "\n",
    "#### Email: od21h2a@leeds.ac.uk"
   ]
  },
  {
   "cell_type": "markdown",
   "metadata": {},
   "source": [
    "# Project Plan\n",
    "\n",
    "## The Data (10 marks)\n",
    "\n",
    "**What does this data show?**: This report provides an overview of sold house prices in the United Kingdom ranging from 1995 - 2017.\n",
    "\n",
    "**Why is this important?**: \n",
    "- House prices are increasing at a ridiculous rate leaving more people priced out. \n",
    "- This may lead to more of us becoming a nation of renters as opposed to owners. \n",
    "\n",
    "Using the data below, to make an educated guess if now is a sensible time to buy, What type of property to buy and Where to the buy a property.\n",
    "\n",
    "**Where has the data come from?**:\n",
    "- The data is downloaded from Kaggle: https://www.kaggle.com/datasets/hm-land-registry/uk-housing-prices-paid.\n",
    "- The user was called **HM Land Registry**, but their account does not exist.\n",
    "- Luckily it references data released by HM Land Registry https://www.gov.uk/government/organisations/land-registry/about\n",
    "    - Increasing the authenticity as released by the Government as opposed to a random entity. \n",
    "    \n",
    "**Useful definitions**\n",
    "- **HM Land Registry**: Is a department of the Government of the United Kingdom that registers ownership of property.\n",
    "- **Property Transfer Deed**: A document which transfers ownership of the property from a seller to buyer.\n",
    "- **New Built Property**: Is a property that has recently been built, or majorly reonvated within last two years and not been sold.\n",
    "- **Freehold**: Is a type of ownership, where a person has \"forever\" ownership over the property. \n",
    "- **Leasehold** Is a form of property ownership where a property is leased from a freeholder.\n",
    "\n",
    "\n",
    "\n",
    "**Breakdown of data**\n",
    "- The dataset from Kaggle contains a total of 10 columns of property the property transactions. \n",
    "- There are 22,489,348 records of transactions!\n",
    "- Data provided by HM Land Registry contains 16 columns which can be see on the table found under \"Explanations of column headers in the PPD\" header. https://www.gov.uk/guidance/about-the-price-paid-data\n",
    "\n",
    "Columns are as follows:\n",
    "\n",
    "**1. Transaction unique identifier (String)**: A unique reference which is recorded upon each sale. \n",
    "<br>\n",
    "**2. Price (Int)**: The sale price which is stated on the property transfer dead. \n",
    "<br>\n",
    "**3. Date of Transfer (String)**: Date the sale was completed, which is stated on the property transfer deed.\n",
    "<br>\n",
    "**4. Property Type (String)**: Property Type, D = Deatched, S = Semi-Detached, T = Terraced, F = Flats/Masionettes, O = Other \n",
    "<br>\n",
    "**5. Old/New (String)**: Y=Newly built property, N=not newly built property\n",
    "<br>\n",
    "**6. Duration (String)**: Relates to the tenure: F = Freehold, L= Leasehold\n",
    "<br>\n",
    "**7. Town/City (String)**\n",
    "<br>\n",
    "**8. District (String)**\n",
    "<br> \n",
    "**9. County (String)**\n",
    "<br>\n",
    "**10. PPDCategory Type**: Indicates the type of Price Paid transaction A,B.\n",
    "- A = Standard Price Paid entry, includes single residential property sold for value.\n",
    "- B = Additional Price Paid entry including transfers under a power of sale/repossessions, buy-to-lets (where they can be identified by a Mortgage), transfers to non-private individuals and sales where the property type is classed as ‘Other’.\n",
    "\n",
    "**Notes**: \n",
    "- Not all these columns will be used in the analysis. The columns maybe dropped or cleaned.\n",
    "- There were no nulls or missing values which meant preparing or cleansing data was much easier.\n",
    "- Date of transfer is a string. Where to analyse date we need it in a date time or int format. \n",
    "- Date will be split by year and month both which will be casted a integer. This is so we can use it to a plot regression line later on to predict how much house prices will be in the future.\n",
    "\n",
    "\n",
    "\n",
    "\n",
    "## Project Aim and Objectives (5 marks)\n",
    "\n",
    "The overall aim of the project is to find out if it is worth purchasing a house now or later. \n",
    "There have been blackswan events in the past such as the **2008 housing crisis**. Which resulted is mortgage rates to increase, house prices to drop and many people losing their homes. \n",
    "- With the rate the government has been lending money due to covid \n",
    "- Rate at which house prices are increasing (\"Possibly due to the stamp duty holiday\")\n",
    "- Salaries remaining the same\n",
    "\n",
    "There seems a possibity we are in bubble.\n",
    "\n",
    "\n",
    "In this report I will anaylse data provided by the HM Land Registry to find weather there is any relation between sold price and year sold. \n",
    "- Using linear regression to predict what house prices could be?\n",
    "- Find the correlation coefficient between certain features of properties against price\n",
    "- Display the .......\n",
    "\n",
    "### Specific Objective(s)\n",
    "\n",
    "* __Objective 1:__ _Get top 5 district for house sales_\n",
    "* __Objective 2:__ _Predict cost of property more than 20 years from now average of these 5 districts_\n",
    "\n",
    "## System Design (5 marks)\n",
    "\n",
    "_Describe your code in terms of the\n",
    "following two sections._\n",
    "\n",
    "### Architecture\n",
    "\n",
    "_Typically this would be  a pipeline in which data goes through several\n",
    "stages of transformation and analysis, but other architectures are possible.\n",
    "This does not need to be particularly complicated. A simple diagram with\n",
    "100-150 words of explanation would\n",
    "be a good way to present your architecture._\n",
    "  \n",
    "### Processing Modules and Algorithms\n",
    "\n",
    "_Briefly list and describe the most significant computational components of your system and the algorithms you will use to implement them. \n",
    "This could include things like:_\n",
    "\n",
    "* _cleaning the data by removing outliers_\n",
    "* _combining different datasets_\n",
    "* _converting samples to a special representaion (such as feature vectors)_\n",
    "* _constructing a special data-structure (such as a decision tree)_\n",
    "* _running some kind of analysis_\n",
    "\n",
    "_Your list can be presented in similar form to the one just given, \n",
    "but should include a brief\n",
    "but more specific description of the components and/or algorithms.\n",
    "Probably three or four components is sufficient for most projects, but\n",
    "you may want to have more._"
   ]
  },
  {
   "cell_type": "markdown",
   "metadata": {},
   "source": [
    "# Program Code (15 marks)\n",
    "\n",
    "**Brief Explanation of following code cell**\n",
    "\n",
    "- Importing pandas for data anlysis/maniuplation, creating and manuipulating dataframes.\n",
    "- Importing matplotlib and seaborn for data visulation."
   ]
  },
  {
   "cell_type": "code",
   "execution_count": 102,
   "metadata": {},
   "outputs": [],
   "source": [
    "import pandas as pd\n",
    "import matplotlib.pyplot as plt\n",
    "import seaborn as sns\n",
    "import math\n",
    "import numpy as np"
   ]
  },
  {
   "cell_type": "markdown",
   "metadata": {},
   "source": [
    "**Brief Explanation of following code cell**\n",
    "\n",
    "- The command **%%time** finds the wall time. This is the time taken from the start of the program to end of the program. As we are reading a massive dataset.\n",
    "- HOUSE_PRICES_DF creates a dataframe from the CSV\n",
    "- property_transactions_count finds the total number of rows in the frame and formats the number by 1000s by commas to make the number more readable.\n",
    "- Prints number of rows returns to give feedback to the user.\n",
    "\n",
    "**Note:** Please be patient when the running the code below as it's is creating a dataframe from millions of records!"
   ]
  },
  {
   "cell_type": "code",
   "execution_count": 2,
   "metadata": {},
   "outputs": [
    {
     "name": "stdout",
     "output_type": "stream",
     "text": [
      "There are 22,489,348 property transcations in the CSV!\n",
      "No wonder it took so long!\n",
      "\n",
      "Wall time: 26.9 s\n"
     ]
    }
   ],
   "source": [
    "%%time \n",
    "\n",
    "HOUSE_PRICES_DF = pd.read_csv(\"price_paid_records.csv\")\n",
    "\n",
    "property_transactions_count = '{:,}'.format(len(HOUSE_PRICES_DF))\n",
    "print_text = f'There are {property_transactions_count} property transcations in the CSV!\\nNo wonder it took so long!\\n'\n",
    "print(print_text)"
   ]
  },
  {
   "cell_type": "markdown",
   "metadata": {},
   "source": [
    "**Brief Explanation of following code cell**\n",
    "\n",
    "- Below is a simple test to see if our data was imported correctly. \n",
    "- This allows you to see visually the data you are working with\n",
    "- In the below output, you can see the first five rows returned by the dataframe.\n",
    "- by default .head() returns the first 5 records.\n",
    "- This should result in 11 columns\n",
    "\n"
   ]
  },
  {
   "cell_type": "code",
   "execution_count": 3,
   "metadata": {
    "scrolled": true
   },
   "outputs": [
    {
     "data": {
      "text/html": [
       "<div>\n",
       "<style scoped>\n",
       "    .dataframe tbody tr th:only-of-type {\n",
       "        vertical-align: middle;\n",
       "    }\n",
       "\n",
       "    .dataframe tbody tr th {\n",
       "        vertical-align: top;\n",
       "    }\n",
       "\n",
       "    .dataframe thead th {\n",
       "        text-align: right;\n",
       "    }\n",
       "</style>\n",
       "<table border=\"1\" class=\"dataframe\">\n",
       "  <thead>\n",
       "    <tr style=\"text-align: right;\">\n",
       "      <th></th>\n",
       "      <th>Transaction unique identifier</th>\n",
       "      <th>Price</th>\n",
       "      <th>Date of Transfer</th>\n",
       "      <th>Property Type</th>\n",
       "      <th>Old/New</th>\n",
       "      <th>Duration</th>\n",
       "      <th>Town/City</th>\n",
       "      <th>District</th>\n",
       "      <th>County</th>\n",
       "      <th>PPDCategory Type</th>\n",
       "      <th>Record Status - monthly file only</th>\n",
       "    </tr>\n",
       "  </thead>\n",
       "  <tbody>\n",
       "    <tr>\n",
       "      <th>0</th>\n",
       "      <td>{81B82214-7FBC-4129-9F6B-4956B4A663AD}</td>\n",
       "      <td>25000</td>\n",
       "      <td>1995-08-18 00:00</td>\n",
       "      <td>T</td>\n",
       "      <td>N</td>\n",
       "      <td>F</td>\n",
       "      <td>OLDHAM</td>\n",
       "      <td>OLDHAM</td>\n",
       "      <td>GREATER MANCHESTER</td>\n",
       "      <td>A</td>\n",
       "      <td>A</td>\n",
       "    </tr>\n",
       "    <tr>\n",
       "      <th>1</th>\n",
       "      <td>{8046EC72-1466-42D6-A753-4956BF7CD8A2}</td>\n",
       "      <td>42500</td>\n",
       "      <td>1995-08-09 00:00</td>\n",
       "      <td>S</td>\n",
       "      <td>N</td>\n",
       "      <td>F</td>\n",
       "      <td>GRAYS</td>\n",
       "      <td>THURROCK</td>\n",
       "      <td>THURROCK</td>\n",
       "      <td>A</td>\n",
       "      <td>A</td>\n",
       "    </tr>\n",
       "    <tr>\n",
       "      <th>2</th>\n",
       "      <td>{278D581A-5BF3-4FCE-AF62-4956D87691E6}</td>\n",
       "      <td>45000</td>\n",
       "      <td>1995-06-30 00:00</td>\n",
       "      <td>T</td>\n",
       "      <td>N</td>\n",
       "      <td>F</td>\n",
       "      <td>HIGHBRIDGE</td>\n",
       "      <td>SEDGEMOOR</td>\n",
       "      <td>SOMERSET</td>\n",
       "      <td>A</td>\n",
       "      <td>A</td>\n",
       "    </tr>\n",
       "    <tr>\n",
       "      <th>3</th>\n",
       "      <td>{1D861C06-A416-4865-973C-4956DB12CD12}</td>\n",
       "      <td>43150</td>\n",
       "      <td>1995-11-24 00:00</td>\n",
       "      <td>T</td>\n",
       "      <td>N</td>\n",
       "      <td>F</td>\n",
       "      <td>BEDFORD</td>\n",
       "      <td>NORTH BEDFORDSHIRE</td>\n",
       "      <td>BEDFORDSHIRE</td>\n",
       "      <td>A</td>\n",
       "      <td>A</td>\n",
       "    </tr>\n",
       "    <tr>\n",
       "      <th>4</th>\n",
       "      <td>{DD8645FD-A815-43A6-A7BA-4956E58F1874}</td>\n",
       "      <td>18899</td>\n",
       "      <td>1995-06-23 00:00</td>\n",
       "      <td>S</td>\n",
       "      <td>N</td>\n",
       "      <td>F</td>\n",
       "      <td>WAKEFIELD</td>\n",
       "      <td>LEEDS</td>\n",
       "      <td>WEST YORKSHIRE</td>\n",
       "      <td>A</td>\n",
       "      <td>A</td>\n",
       "    </tr>\n",
       "  </tbody>\n",
       "</table>\n",
       "</div>"
      ],
      "text/plain": [
       "            Transaction unique identifier  Price  Date of Transfer  \\\n",
       "0  {81B82214-7FBC-4129-9F6B-4956B4A663AD}  25000  1995-08-18 00:00   \n",
       "1  {8046EC72-1466-42D6-A753-4956BF7CD8A2}  42500  1995-08-09 00:00   \n",
       "2  {278D581A-5BF3-4FCE-AF62-4956D87691E6}  45000  1995-06-30 00:00   \n",
       "3  {1D861C06-A416-4865-973C-4956DB12CD12}  43150  1995-11-24 00:00   \n",
       "4  {DD8645FD-A815-43A6-A7BA-4956E58F1874}  18899  1995-06-23 00:00   \n",
       "\n",
       "  Property Type Old/New Duration   Town/City            District  \\\n",
       "0             T       N        F      OLDHAM              OLDHAM   \n",
       "1             S       N        F       GRAYS            THURROCK   \n",
       "2             T       N        F  HIGHBRIDGE           SEDGEMOOR   \n",
       "3             T       N        F     BEDFORD  NORTH BEDFORDSHIRE   \n",
       "4             S       N        F   WAKEFIELD               LEEDS   \n",
       "\n",
       "               County PPDCategory Type Record Status - monthly file only  \n",
       "0  GREATER MANCHESTER                A                                 A  \n",
       "1            THURROCK                A                                 A  \n",
       "2            SOMERSET                A                                 A  \n",
       "3        BEDFORDSHIRE                A                                 A  \n",
       "4      WEST YORKSHIRE                A                                 A  "
      ]
     },
     "execution_count": 3,
     "metadata": {},
     "output_type": "execute_result"
    }
   ],
   "source": [
    "HOUSE_PRICES_DF.head() # show first 5 records"
   ]
  },
  {
   "cell_type": "markdown",
   "metadata": {},
   "source": [
    "**Brief Explanation of following code cell**\n",
    "\n",
    "- Pandas has methods which allows to calculate the maximum and minimum values over the requested axis.\n",
    "- But right now there other calculations provide no context.\n",
    "- Prints max and min price back to user for the feedback. \n",
    "\n",
    "**Note**: There is a possiblity to use .describe() which returns count, mean , std, min etc. This will only return values for the price column as the other columns are string\n"
   ]
  },
  {
   "cell_type": "code",
   "execution_count": 4,
   "metadata": {},
   "outputs": [
    {
     "name": "stdout",
     "output_type": "stream",
     "text": [
      "The maximum a property sold for was £98,900,000!\n",
      "The minimum a property a sold for was £1 I missed out on a bargain :(\n"
     ]
    }
   ],
   "source": [
    "max_price = '{:,}'.format(HOUSE_PRICES_DF[\"Price\"].max())\n",
    "min_price = '{:,}'.format(HOUSE_PRICES_DF[\"Price\"].min())\n",
    "\n",
    "print_text = f'The maximum a property sold for was £{max_price}!\\nThe minimum a property a sold for was £{min_price} I missed out on a bargain :('\n",
    "print(print_text)"
   ]
  },
  {
   "cell_type": "markdown",
   "metadata": {},
   "source": [
    "**Brief Explanation of following code cell**\n",
    "\n",
    "- This is part of data cleanses\n",
    "- Check to see if there are any rows missing values\n",
    "- Results show no missing values "
   ]
  },
  {
   "cell_type": "code",
   "execution_count": 5,
   "metadata": {},
   "outputs": [
    {
     "data": {
      "text/plain": [
       "Transaction unique identifier        0\n",
       "Price                                0\n",
       "Date of Transfer                     0\n",
       "Property Type                        0\n",
       "Old/New                              0\n",
       "Duration                             0\n",
       "Town/City                            0\n",
       "District                             0\n",
       "County                               0\n",
       "PPDCategory Type                     0\n",
       "Record Status - monthly file only    0\n",
       "dtype: int64"
      ]
     },
     "execution_count": 5,
     "metadata": {},
     "output_type": "execute_result"
    }
   ],
   "source": [
    "HOUSE_PRICES_DF.isnull().sum()"
   ]
  },
  {
   "cell_type": "markdown",
   "metadata": {},
   "source": [
    "**Brief Explanation of following code cell**\n",
    "\n",
    "- Create a new instance of the dataframe was don't want to mutate the original.\n",
    "- Drop uneeded columns"
   ]
  },
  {
   "cell_type": "code",
   "execution_count": 6,
   "metadata": {},
   "outputs": [
    {
     "data": {
      "text/html": [
       "<div>\n",
       "<style scoped>\n",
       "    .dataframe tbody tr th:only-of-type {\n",
       "        vertical-align: middle;\n",
       "    }\n",
       "\n",
       "    .dataframe tbody tr th {\n",
       "        vertical-align: top;\n",
       "    }\n",
       "\n",
       "    .dataframe thead th {\n",
       "        text-align: right;\n",
       "    }\n",
       "</style>\n",
       "<table border=\"1\" class=\"dataframe\">\n",
       "  <thead>\n",
       "    <tr style=\"text-align: right;\">\n",
       "      <th></th>\n",
       "      <th>Price</th>\n",
       "      <th>Date of Transfer</th>\n",
       "      <th>Property Type</th>\n",
       "      <th>Old/New</th>\n",
       "      <th>Town/City</th>\n",
       "      <th>District</th>\n",
       "      <th>County</th>\n",
       "    </tr>\n",
       "  </thead>\n",
       "  <tbody>\n",
       "    <tr>\n",
       "      <th>0</th>\n",
       "      <td>25000</td>\n",
       "      <td>1995-08-18 00:00</td>\n",
       "      <td>T</td>\n",
       "      <td>N</td>\n",
       "      <td>OLDHAM</td>\n",
       "      <td>OLDHAM</td>\n",
       "      <td>GREATER MANCHESTER</td>\n",
       "    </tr>\n",
       "    <tr>\n",
       "      <th>1</th>\n",
       "      <td>42500</td>\n",
       "      <td>1995-08-09 00:00</td>\n",
       "      <td>S</td>\n",
       "      <td>N</td>\n",
       "      <td>GRAYS</td>\n",
       "      <td>THURROCK</td>\n",
       "      <td>THURROCK</td>\n",
       "    </tr>\n",
       "    <tr>\n",
       "      <th>2</th>\n",
       "      <td>45000</td>\n",
       "      <td>1995-06-30 00:00</td>\n",
       "      <td>T</td>\n",
       "      <td>N</td>\n",
       "      <td>HIGHBRIDGE</td>\n",
       "      <td>SEDGEMOOR</td>\n",
       "      <td>SOMERSET</td>\n",
       "    </tr>\n",
       "    <tr>\n",
       "      <th>3</th>\n",
       "      <td>43150</td>\n",
       "      <td>1995-11-24 00:00</td>\n",
       "      <td>T</td>\n",
       "      <td>N</td>\n",
       "      <td>BEDFORD</td>\n",
       "      <td>NORTH BEDFORDSHIRE</td>\n",
       "      <td>BEDFORDSHIRE</td>\n",
       "    </tr>\n",
       "    <tr>\n",
       "      <th>4</th>\n",
       "      <td>18899</td>\n",
       "      <td>1995-06-23 00:00</td>\n",
       "      <td>S</td>\n",
       "      <td>N</td>\n",
       "      <td>WAKEFIELD</td>\n",
       "      <td>LEEDS</td>\n",
       "      <td>WEST YORKSHIRE</td>\n",
       "    </tr>\n",
       "  </tbody>\n",
       "</table>\n",
       "</div>"
      ],
      "text/plain": [
       "   Price  Date of Transfer Property Type Old/New   Town/City  \\\n",
       "0  25000  1995-08-18 00:00             T       N      OLDHAM   \n",
       "1  42500  1995-08-09 00:00             S       N       GRAYS   \n",
       "2  45000  1995-06-30 00:00             T       N  HIGHBRIDGE   \n",
       "3  43150  1995-11-24 00:00             T       N     BEDFORD   \n",
       "4  18899  1995-06-23 00:00             S       N   WAKEFIELD   \n",
       "\n",
       "             District              County  \n",
       "0              OLDHAM  GREATER MANCHESTER  \n",
       "1            THURROCK            THURROCK  \n",
       "2           SEDGEMOOR            SOMERSET  \n",
       "3  NORTH BEDFORDSHIRE        BEDFORDSHIRE  \n",
       "4               LEEDS      WEST YORKSHIRE  "
      ]
     },
     "execution_count": 6,
     "metadata": {},
     "output_type": "execute_result"
    }
   ],
   "source": [
    "CLEAN_HOUSE_PRICES_DF = HOUSE_PRICES_DF.copy() \n",
    "\n",
    "CLEAN_HOUSE_PRICES_DF.drop(columns = 'Transaction unique identifier', axis = 1, inplace = True)\n",
    "CLEAN_HOUSE_PRICES_DF.drop(columns = 'Duration', axis = 1, inplace = True)\n",
    "CLEAN_HOUSE_PRICES_DF.drop(columns = 'PPDCategory Type', axis = 1, inplace = True)\n",
    "CLEAN_HOUSE_PRICES_DF.drop(columns = 'Record Status - monthly file only', axis = 1, inplace = True)\n",
    "\n",
    "CLEAN_HOUSE_PRICES_DF.head()"
   ]
  },
  {
   "cell_type": "code",
   "execution_count": 7,
   "metadata": {},
   "outputs": [
    {
     "data": {
      "text/html": [
       "<div>\n",
       "<style scoped>\n",
       "    .dataframe tbody tr th:only-of-type {\n",
       "        vertical-align: middle;\n",
       "    }\n",
       "\n",
       "    .dataframe tbody tr th {\n",
       "        vertical-align: top;\n",
       "    }\n",
       "\n",
       "    .dataframe thead th {\n",
       "        text-align: right;\n",
       "    }\n",
       "</style>\n",
       "<table border=\"1\" class=\"dataframe\">\n",
       "  <thead>\n",
       "    <tr style=\"text-align: right;\">\n",
       "      <th></th>\n",
       "      <th>Transaction unique identifier</th>\n",
       "      <th>Price</th>\n",
       "      <th>Date of Transfer</th>\n",
       "      <th>Property Type</th>\n",
       "      <th>Old/New</th>\n",
       "      <th>Duration</th>\n",
       "      <th>Town/City</th>\n",
       "      <th>District</th>\n",
       "      <th>County</th>\n",
       "      <th>PPDCategory Type</th>\n",
       "      <th>Record Status - monthly file only</th>\n",
       "    </tr>\n",
       "  </thead>\n",
       "  <tbody>\n",
       "    <tr>\n",
       "      <th>0</th>\n",
       "      <td>{81B82214-7FBC-4129-9F6B-4956B4A663AD}</td>\n",
       "      <td>25000</td>\n",
       "      <td>1995-08-18 00:00</td>\n",
       "      <td>T</td>\n",
       "      <td>N</td>\n",
       "      <td>F</td>\n",
       "      <td>OLDHAM</td>\n",
       "      <td>OLDHAM</td>\n",
       "      <td>GREATER MANCHESTER</td>\n",
       "      <td>A</td>\n",
       "      <td>A</td>\n",
       "    </tr>\n",
       "    <tr>\n",
       "      <th>1</th>\n",
       "      <td>{8046EC72-1466-42D6-A753-4956BF7CD8A2}</td>\n",
       "      <td>42500</td>\n",
       "      <td>1995-08-09 00:00</td>\n",
       "      <td>S</td>\n",
       "      <td>N</td>\n",
       "      <td>F</td>\n",
       "      <td>GRAYS</td>\n",
       "      <td>THURROCK</td>\n",
       "      <td>THURROCK</td>\n",
       "      <td>A</td>\n",
       "      <td>A</td>\n",
       "    </tr>\n",
       "    <tr>\n",
       "      <th>2</th>\n",
       "      <td>{278D581A-5BF3-4FCE-AF62-4956D87691E6}</td>\n",
       "      <td>45000</td>\n",
       "      <td>1995-06-30 00:00</td>\n",
       "      <td>T</td>\n",
       "      <td>N</td>\n",
       "      <td>F</td>\n",
       "      <td>HIGHBRIDGE</td>\n",
       "      <td>SEDGEMOOR</td>\n",
       "      <td>SOMERSET</td>\n",
       "      <td>A</td>\n",
       "      <td>A</td>\n",
       "    </tr>\n",
       "    <tr>\n",
       "      <th>3</th>\n",
       "      <td>{1D861C06-A416-4865-973C-4956DB12CD12}</td>\n",
       "      <td>43150</td>\n",
       "      <td>1995-11-24 00:00</td>\n",
       "      <td>T</td>\n",
       "      <td>N</td>\n",
       "      <td>F</td>\n",
       "      <td>BEDFORD</td>\n",
       "      <td>NORTH BEDFORDSHIRE</td>\n",
       "      <td>BEDFORDSHIRE</td>\n",
       "      <td>A</td>\n",
       "      <td>A</td>\n",
       "    </tr>\n",
       "    <tr>\n",
       "      <th>4</th>\n",
       "      <td>{DD8645FD-A815-43A6-A7BA-4956E58F1874}</td>\n",
       "      <td>18899</td>\n",
       "      <td>1995-06-23 00:00</td>\n",
       "      <td>S</td>\n",
       "      <td>N</td>\n",
       "      <td>F</td>\n",
       "      <td>WAKEFIELD</td>\n",
       "      <td>LEEDS</td>\n",
       "      <td>WEST YORKSHIRE</td>\n",
       "      <td>A</td>\n",
       "      <td>A</td>\n",
       "    </tr>\n",
       "  </tbody>\n",
       "</table>\n",
       "</div>"
      ],
      "text/plain": [
       "            Transaction unique identifier  Price  Date of Transfer  \\\n",
       "0  {81B82214-7FBC-4129-9F6B-4956B4A663AD}  25000  1995-08-18 00:00   \n",
       "1  {8046EC72-1466-42D6-A753-4956BF7CD8A2}  42500  1995-08-09 00:00   \n",
       "2  {278D581A-5BF3-4FCE-AF62-4956D87691E6}  45000  1995-06-30 00:00   \n",
       "3  {1D861C06-A416-4865-973C-4956DB12CD12}  43150  1995-11-24 00:00   \n",
       "4  {DD8645FD-A815-43A6-A7BA-4956E58F1874}  18899  1995-06-23 00:00   \n",
       "\n",
       "  Property Type Old/New Duration   Town/City            District  \\\n",
       "0             T       N        F      OLDHAM              OLDHAM   \n",
       "1             S       N        F       GRAYS            THURROCK   \n",
       "2             T       N        F  HIGHBRIDGE           SEDGEMOOR   \n",
       "3             T       N        F     BEDFORD  NORTH BEDFORDSHIRE   \n",
       "4             S       N        F   WAKEFIELD               LEEDS   \n",
       "\n",
       "               County PPDCategory Type Record Status - monthly file only  \n",
       "0  GREATER MANCHESTER                A                                 A  \n",
       "1            THURROCK                A                                 A  \n",
       "2            SOMERSET                A                                 A  \n",
       "3        BEDFORDSHIRE                A                                 A  \n",
       "4      WEST YORKSHIRE                A                                 A  "
      ]
     },
     "execution_count": 7,
     "metadata": {},
     "output_type": "execute_result"
    }
   ],
   "source": [
    "HOUSE_PRICES_DF.head() ## double check to see orignal df is not mutated"
   ]
  },
  {
   "cell_type": "markdown",
   "metadata": {},
   "source": [
    "**Brief Explanation of following code cell**\n",
    "\n",
    "- This is part of data cleanses\n",
    "- Create new columns Year and Month and by \"cutting\" the strings and then converting to a int.\n",
    "- Reason for converting to an int, is so we can use it as regression later."
   ]
  },
  {
   "cell_type": "code",
   "execution_count": 8,
   "metadata": {},
   "outputs": [
    {
     "data": {
      "text/html": [
       "<div>\n",
       "<style scoped>\n",
       "    .dataframe tbody tr th:only-of-type {\n",
       "        vertical-align: middle;\n",
       "    }\n",
       "\n",
       "    .dataframe tbody tr th {\n",
       "        vertical-align: top;\n",
       "    }\n",
       "\n",
       "    .dataframe thead th {\n",
       "        text-align: right;\n",
       "    }\n",
       "</style>\n",
       "<table border=\"1\" class=\"dataframe\">\n",
       "  <thead>\n",
       "    <tr style=\"text-align: right;\">\n",
       "      <th></th>\n",
       "      <th>Price</th>\n",
       "      <th>Date of Transfer</th>\n",
       "      <th>Property Type</th>\n",
       "      <th>Old/New</th>\n",
       "      <th>Town/City</th>\n",
       "      <th>District</th>\n",
       "      <th>County</th>\n",
       "      <th>Year</th>\n",
       "      <th>Month</th>\n",
       "    </tr>\n",
       "  </thead>\n",
       "  <tbody>\n",
       "    <tr>\n",
       "      <th>0</th>\n",
       "      <td>25000</td>\n",
       "      <td>1995-08-18 00:00</td>\n",
       "      <td>T</td>\n",
       "      <td>N</td>\n",
       "      <td>OLDHAM</td>\n",
       "      <td>OLDHAM</td>\n",
       "      <td>GREATER MANCHESTER</td>\n",
       "      <td>1995</td>\n",
       "      <td>8</td>\n",
       "    </tr>\n",
       "    <tr>\n",
       "      <th>1</th>\n",
       "      <td>42500</td>\n",
       "      <td>1995-08-09 00:00</td>\n",
       "      <td>S</td>\n",
       "      <td>N</td>\n",
       "      <td>GRAYS</td>\n",
       "      <td>THURROCK</td>\n",
       "      <td>THURROCK</td>\n",
       "      <td>1995</td>\n",
       "      <td>8</td>\n",
       "    </tr>\n",
       "    <tr>\n",
       "      <th>2</th>\n",
       "      <td>45000</td>\n",
       "      <td>1995-06-30 00:00</td>\n",
       "      <td>T</td>\n",
       "      <td>N</td>\n",
       "      <td>HIGHBRIDGE</td>\n",
       "      <td>SEDGEMOOR</td>\n",
       "      <td>SOMERSET</td>\n",
       "      <td>1995</td>\n",
       "      <td>6</td>\n",
       "    </tr>\n",
       "    <tr>\n",
       "      <th>3</th>\n",
       "      <td>43150</td>\n",
       "      <td>1995-11-24 00:00</td>\n",
       "      <td>T</td>\n",
       "      <td>N</td>\n",
       "      <td>BEDFORD</td>\n",
       "      <td>NORTH BEDFORDSHIRE</td>\n",
       "      <td>BEDFORDSHIRE</td>\n",
       "      <td>1995</td>\n",
       "      <td>11</td>\n",
       "    </tr>\n",
       "    <tr>\n",
       "      <th>4</th>\n",
       "      <td>18899</td>\n",
       "      <td>1995-06-23 00:00</td>\n",
       "      <td>S</td>\n",
       "      <td>N</td>\n",
       "      <td>WAKEFIELD</td>\n",
       "      <td>LEEDS</td>\n",
       "      <td>WEST YORKSHIRE</td>\n",
       "      <td>1995</td>\n",
       "      <td>6</td>\n",
       "    </tr>\n",
       "  </tbody>\n",
       "</table>\n",
       "</div>"
      ],
      "text/plain": [
       "   Price  Date of Transfer Property Type Old/New   Town/City  \\\n",
       "0  25000  1995-08-18 00:00             T       N      OLDHAM   \n",
       "1  42500  1995-08-09 00:00             S       N       GRAYS   \n",
       "2  45000  1995-06-30 00:00             T       N  HIGHBRIDGE   \n",
       "3  43150  1995-11-24 00:00             T       N     BEDFORD   \n",
       "4  18899  1995-06-23 00:00             S       N   WAKEFIELD   \n",
       "\n",
       "             District              County  Year  Month  \n",
       "0              OLDHAM  GREATER MANCHESTER  1995      8  \n",
       "1            THURROCK            THURROCK  1995      8  \n",
       "2           SEDGEMOOR            SOMERSET  1995      6  \n",
       "3  NORTH BEDFORDSHIRE        BEDFORDSHIRE  1995     11  \n",
       "4               LEEDS      WEST YORKSHIRE  1995      6  "
      ]
     },
     "execution_count": 8,
     "metadata": {},
     "output_type": "execute_result"
    }
   ],
   "source": [
    "CLEAN_HOUSE_PRICES_DF['Year'] = CLEAN_HOUSE_PRICES_DF['Date of Transfer'].str[:4].astype(int) # Need as int for regression \n",
    "CLEAN_HOUSE_PRICES_DF['Month'] = CLEAN_HOUSE_PRICES_DF['Date of Transfer'].str[5:7].astype(int) # Need as int for regression\n",
    "\n",
    "CLEAN_HOUSE_PRICES_DF.head()"
   ]
  },
  {
   "cell_type": "markdown",
   "metadata": {},
   "source": [
    "## Objective 1: Get top 5 district for house sales\n"
   ]
  },
  {
   "cell_type": "markdown",
   "metadata": {},
   "source": [
    "**Brief Explanation of following code cell**\n",
    "\n",
    "- Step 1 find the total unique districts\n",
    "- .unique returns unique values based on a hash table. This does not sort just returns based on appearance.\n",
    "- len allows number of rows or unique districts"
   ]
  },
  {
   "cell_type": "code",
   "execution_count": 9,
   "metadata": {},
   "outputs": [
    {
     "name": "stdout",
     "output_type": "stream",
     "text": [
      "There is a total of 454 unique districts.\n"
     ]
    }
   ],
   "source": [
    "UNIQUE_DISTRICT = CLEAN_HOUSE_PRICES_DF['District'].unique()\n",
    "UNIQUE_DISTRICT_COUNT = len(UNIQUE_DISTRICT)\n",
    "\n",
    "print_text = f'There is a total of {UNIQUE_DISTRICT_COUNT} unique districts.'\n",
    "print(print_text)"
   ]
  },
  {
   "cell_type": "markdown",
   "metadata": {},
   "source": [
    "**Brief Explanation of following code cell**\n",
    "\n",
    "- firstly create a new dataframe instance without mutating orginal dataframe.\n",
    "- Only inserested in getting count of each district so we only pass the district columns\n",
    "- Then loop through each row of the district and find the occurance of that district\n",
    "- Filter orignal cleaned DF and count occurance of that disrict.\n",
    "\n",
    "**Note**: When looping this add a tremendous strain. Which takes wall time to be atleast 6 minutes."
   ]
  },
  {
   "cell_type": "code",
   "execution_count": 10,
   "metadata": {},
   "outputs": [
    {
     "name": "stdout",
     "output_type": "stream",
     "text": [
      "Wall time: 6min 42s\n"
     ]
    },
    {
     "data": {
      "text/html": [
       "<div>\n",
       "<style scoped>\n",
       "    .dataframe tbody tr th:only-of-type {\n",
       "        vertical-align: middle;\n",
       "    }\n",
       "\n",
       "    .dataframe tbody tr th {\n",
       "        vertical-align: top;\n",
       "    }\n",
       "\n",
       "    .dataframe thead th {\n",
       "        text-align: right;\n",
       "    }\n",
       "</style>\n",
       "<table border=\"1\" class=\"dataframe\">\n",
       "  <thead>\n",
       "    <tr style=\"text-align: right;\">\n",
       "      <th></th>\n",
       "      <th>District</th>\n",
       "      <th>Count</th>\n",
       "    </tr>\n",
       "  </thead>\n",
       "  <tbody>\n",
       "    <tr>\n",
       "      <th>0</th>\n",
       "      <td>OLDHAM</td>\n",
       "      <td>76576.0</td>\n",
       "    </tr>\n",
       "    <tr>\n",
       "      <th>1</th>\n",
       "      <td>THURROCK</td>\n",
       "      <td>69498.0</td>\n",
       "    </tr>\n",
       "    <tr>\n",
       "      <th>2</th>\n",
       "      <td>SEDGEMOOR</td>\n",
       "      <td>52762.0</td>\n",
       "    </tr>\n",
       "    <tr>\n",
       "      <th>3</th>\n",
       "      <td>NORTH BEDFORDSHIRE</td>\n",
       "      <td>2801.0</td>\n",
       "    </tr>\n",
       "    <tr>\n",
       "      <th>4</th>\n",
       "      <td>LEEDS</td>\n",
       "      <td>299133.0</td>\n",
       "    </tr>\n",
       "  </tbody>\n",
       "</table>\n",
       "</div>"
      ],
      "text/plain": [
       "             District     Count\n",
       "0              OLDHAM   76576.0\n",
       "1            THURROCK   69498.0\n",
       "2           SEDGEMOOR   52762.0\n",
       "3  NORTH BEDFORDSHIRE    2801.0\n",
       "4               LEEDS  299133.0"
      ]
     },
     "execution_count": 10,
     "metadata": {},
     "output_type": "execute_result"
    }
   ],
   "source": [
    "%%time\n",
    "UNIQUE_DISTRICT_DF = pd.DataFrame(UNIQUE_DISTRICT, columns = ['District'])\n",
    "\n",
    "for index, row in UNIQUE_DISTRICT_DF.iterrows():\n",
    "    UNIQUE_DISTRICT_DF.loc[index, ['Count']] = (CLEAN_HOUSE_PRICES_DF['District'] == row['District']).sum()\n",
    "\n",
    "UNIQUE_DISTRICT_DF.head()\n",
    "\n",
    "## Takes atleast 6 minutes be patient "
   ]
  },
  {
   "cell_type": "markdown",
   "metadata": {},
   "source": [
    "**Brief Explanation of following code cell**\n",
    "\n",
    "- Order by Count column by Desc so highest values appers first\n",
    "- Similar to SQL ORDER BY Equivalent\n",
    "- Will show top 5 distracts which are Birmngham, LEEDS, Bradford, Manchester, Sheffield"
   ]
  },
  {
   "cell_type": "code",
   "execution_count": 11,
   "metadata": {},
   "outputs": [
    {
     "data": {
      "text/html": [
       "<div>\n",
       "<style scoped>\n",
       "    .dataframe tbody tr th:only-of-type {\n",
       "        vertical-align: middle;\n",
       "    }\n",
       "\n",
       "    .dataframe tbody tr th {\n",
       "        vertical-align: top;\n",
       "    }\n",
       "\n",
       "    .dataframe thead th {\n",
       "        text-align: right;\n",
       "    }\n",
       "</style>\n",
       "<table border=\"1\" class=\"dataframe\">\n",
       "  <thead>\n",
       "    <tr style=\"text-align: right;\">\n",
       "      <th></th>\n",
       "      <th>District</th>\n",
       "      <th>Count</th>\n",
       "    </tr>\n",
       "  </thead>\n",
       "  <tbody>\n",
       "    <tr>\n",
       "      <th>69</th>\n",
       "      <td>BIRMINGHAM</td>\n",
       "      <td>332091.0</td>\n",
       "    </tr>\n",
       "    <tr>\n",
       "      <th>4</th>\n",
       "      <td>LEEDS</td>\n",
       "      <td>299133.0</td>\n",
       "    </tr>\n",
       "    <tr>\n",
       "      <th>139</th>\n",
       "      <td>BRADFORD</td>\n",
       "      <td>198163.0</td>\n",
       "    </tr>\n",
       "    <tr>\n",
       "      <th>56</th>\n",
       "      <td>MANCHESTER</td>\n",
       "      <td>181363.0</td>\n",
       "    </tr>\n",
       "    <tr>\n",
       "      <th>15</th>\n",
       "      <td>SHEFFIELD</td>\n",
       "      <td>181222.0</td>\n",
       "    </tr>\n",
       "  </tbody>\n",
       "</table>\n",
       "</div>"
      ],
      "text/plain": [
       "       District     Count\n",
       "69   BIRMINGHAM  332091.0\n",
       "4         LEEDS  299133.0\n",
       "139    BRADFORD  198163.0\n",
       "56   MANCHESTER  181363.0\n",
       "15    SHEFFIELD  181222.0"
      ]
     },
     "execution_count": 11,
     "metadata": {},
     "output_type": "execute_result"
    }
   ],
   "source": [
    "ORDERED_DISTRICTS = UNIQUE_DISTRICT_DF.sort_values(by=['Count'], ascending=False)\n",
    "\n",
    "ORDERED_DISTRICTS.head(5) "
   ]
  },
  {
   "cell_type": "markdown",
   "metadata": {},
   "source": [
    "**Brief Explanation of following code cell**\n",
    "\n",
    "- Return top 5 rows from the ordered data frame\n",
    "- Convert to list so we can use these values dynamically later on for filtering"
   ]
  },
  {
   "cell_type": "code",
   "execution_count": 12,
   "metadata": {},
   "outputs": [
    {
     "data": {
      "text/plain": [
       "['BIRMINGHAM', 'LEEDS', 'BRADFORD', 'MANCHESTER', 'SHEFFIELD']"
      ]
     },
     "execution_count": 12,
     "metadata": {},
     "output_type": "execute_result"
    }
   ],
   "source": [
    "DISTRICT_LIST = ORDERED_DISTRICTS.head(5)['District'].tolist()\n",
    "DISTRICT_LIST"
   ]
  },
  {
   "cell_type": "markdown",
   "metadata": {},
   "source": [
    "**Brief Explanation of following code cell**\n",
    "\n",
    "- Filter by district column\n",
    "- isin does an or comparrison of each element in the list\n",
    "- equavlent to in() in SQL\n",
    "- Filtered Districts now only contains rows from the top 5 districts"
   ]
  },
  {
   "cell_type": "code",
   "execution_count": 13,
   "metadata": {},
   "outputs": [
    {
     "data": {
      "text/html": [
       "<div>\n",
       "<style scoped>\n",
       "    .dataframe tbody tr th:only-of-type {\n",
       "        vertical-align: middle;\n",
       "    }\n",
       "\n",
       "    .dataframe tbody tr th {\n",
       "        vertical-align: top;\n",
       "    }\n",
       "\n",
       "    .dataframe thead th {\n",
       "        text-align: right;\n",
       "    }\n",
       "</style>\n",
       "<table border=\"1\" class=\"dataframe\">\n",
       "  <thead>\n",
       "    <tr style=\"text-align: right;\">\n",
       "      <th></th>\n",
       "      <th>Price</th>\n",
       "      <th>Date of Transfer</th>\n",
       "      <th>Property Type</th>\n",
       "      <th>Old/New</th>\n",
       "      <th>Town/City</th>\n",
       "      <th>District</th>\n",
       "      <th>County</th>\n",
       "      <th>Year</th>\n",
       "      <th>Month</th>\n",
       "    </tr>\n",
       "  </thead>\n",
       "  <tbody>\n",
       "    <tr>\n",
       "      <th>4</th>\n",
       "      <td>18899</td>\n",
       "      <td>1995-06-23 00:00</td>\n",
       "      <td>S</td>\n",
       "      <td>N</td>\n",
       "      <td>WAKEFIELD</td>\n",
       "      <td>LEEDS</td>\n",
       "      <td>WEST YORKSHIRE</td>\n",
       "      <td>1995</td>\n",
       "      <td>6</td>\n",
       "    </tr>\n",
       "    <tr>\n",
       "      <th>16</th>\n",
       "      <td>34000</td>\n",
       "      <td>1995-07-31 00:00</td>\n",
       "      <td>S</td>\n",
       "      <td>N</td>\n",
       "      <td>SHEFFIELD</td>\n",
       "      <td>SHEFFIELD</td>\n",
       "      <td>SOUTH YORKSHIRE</td>\n",
       "      <td>1995</td>\n",
       "      <td>7</td>\n",
       "    </tr>\n",
       "    <tr>\n",
       "      <th>20</th>\n",
       "      <td>76000</td>\n",
       "      <td>1995-01-18 00:00</td>\n",
       "      <td>D</td>\n",
       "      <td>N</td>\n",
       "      <td>LEEDS</td>\n",
       "      <td>LEEDS</td>\n",
       "      <td>WEST YORKSHIRE</td>\n",
       "      <td>1995</td>\n",
       "      <td>1</td>\n",
       "    </tr>\n",
       "    <tr>\n",
       "      <th>28</th>\n",
       "      <td>56000</td>\n",
       "      <td>1995-12-15 00:00</td>\n",
       "      <td>S</td>\n",
       "      <td>N</td>\n",
       "      <td>LEEDS</td>\n",
       "      <td>LEEDS</td>\n",
       "      <td>WEST YORKSHIRE</td>\n",
       "      <td>1995</td>\n",
       "      <td>12</td>\n",
       "    </tr>\n",
       "    <tr>\n",
       "      <th>31</th>\n",
       "      <td>47000</td>\n",
       "      <td>1995-09-18 00:00</td>\n",
       "      <td>T</td>\n",
       "      <td>N</td>\n",
       "      <td>LEEDS</td>\n",
       "      <td>LEEDS</td>\n",
       "      <td>WEST YORKSHIRE</td>\n",
       "      <td>1995</td>\n",
       "      <td>9</td>\n",
       "    </tr>\n",
       "  </tbody>\n",
       "</table>\n",
       "</div>"
      ],
      "text/plain": [
       "    Price  Date of Transfer Property Type Old/New  Town/City   District  \\\n",
       "4   18899  1995-06-23 00:00             S       N  WAKEFIELD      LEEDS   \n",
       "16  34000  1995-07-31 00:00             S       N  SHEFFIELD  SHEFFIELD   \n",
       "20  76000  1995-01-18 00:00             D       N      LEEDS      LEEDS   \n",
       "28  56000  1995-12-15 00:00             S       N      LEEDS      LEEDS   \n",
       "31  47000  1995-09-18 00:00             T       N      LEEDS      LEEDS   \n",
       "\n",
       "             County  Year  Month  \n",
       "4    WEST YORKSHIRE  1995      6  \n",
       "16  SOUTH YORKSHIRE  1995      7  \n",
       "20   WEST YORKSHIRE  1995      1  \n",
       "28   WEST YORKSHIRE  1995     12  \n",
       "31   WEST YORKSHIRE  1995      9  "
      ]
     },
     "execution_count": 13,
     "metadata": {},
     "output_type": "execute_result"
    }
   ],
   "source": [
    "FILTERED_DISTRICTS = CLEAN_HOUSE_PRICES_DF[CLEAN_HOUSE_PRICES_DF['District'].isin(DISTRICT_LIST)]\n",
    "FILTERED_DISTRICTS.head(5)"
   ]
  },
  {
   "cell_type": "markdown",
   "metadata": {},
   "source": [
    "## Objective 2: Predict cost of property 20 years from now 2040 for these 5 districts"
   ]
  },
  {
   "cell_type": "markdown",
   "metadata": {},
   "source": [
    "Linear regression is a predictive modelling technique that allows you to esitmate the relationship between two variables. \n",
    "In this case we will do a regression anlysis to predict values for price based on the year."
   ]
  },
  {
   "attachments": {
    "image.png": {
     "image/png": "[encoded data removed]"
    }
   },
   "cell_type": "markdown",
   "metadata": {},
   "source": [
    "**How is regression calculated?**\n",
    "\n",
    "In this case we will be using Linear regression.\n",
    "\n",
    "$y = a + bx$\n",
    "- y = estimated dependent score\n",
    "- a = Is the y intercept \n",
    "- b = Slope\n",
    "- x = indepent variable\n",
    "\n",
    "$b = r * s_{x}/s_{y}$\n",
    "- $r$ is pearson standard deviation coefficient\n",
    "- standard deviation of y divided by standard deviation of x\n",
    "\n",
    "![image.png](attachment:image.png)\n",
    "\n",
    "- $r$\t=\tcorrelation coefficient\n",
    "- $x_{i}$\t=\tvalues of the x-variable in a sample\n",
    "- $\\bar{x}$\t=\tmean of the values of the x-variable\n",
    "- $y_{i}$\t=\tvalues of the y-variable in a sample\n",
    "- $\\bar{y}$\t=\tmean of the values of the y-variable\n",
    "\n",
    "**Example**\n",
    "\n",
    "| Year (x) | Price (y) | (x - $\\bar x$) | (y - $\\bar y$) | (x - $\\bar x$) * (y - $\\bar y$) | (x - $\\bar x$)$^{2}$ | (y - $\\bar y$)$^{2}$ |\n",
    "| :------------- | :------------- | :------------- | :------------- | :------------- | :------------- |:------------- | \n",
    "| 1995 | 20,000 | -2.5 | -25,000 | 62,500 | 6.25 | 625 * 10$^{6}$ | \n",
    "| 1996 | 30,000 | -1.5 | -15,000 | 22,500 | 2.25 | 506.25 * 10$^{6}$ | \n",
    "| 1997 | 40,000 | -0.5 | -5,000  | 2,500  | 0.25 | 6.25 * 10$^{6}$ |\n",
    "| 1998 | 50,000 | 0.5  | 5,000   | 2,500  | 0.25 | 6.25 * 10$^{6}$ |\n",
    "| 1999 | 60,000 | 1.5  | 15,000  | 22,500 | 2.25 | 506.25 * 10$^{6}$ |\n",
    "| 2000 | 70,000 | 2.5  | 25.000  | 62,500 | 6.25 | 625 * 10$^{6}$ |\n",
    "|  $\\bar x$ = 1997.5    |   $\\bar y$ = 45,000     |      |         |$$\\sum_{}$$ = 175,000|$$\\sum_{}$$ = 17.5 |$$\\sum_{}$$ = 1.750 * 10$^{9}$|\n",
    "\n",
    "$r = 175,000/\\sqrt(17.5* 1.750 * 10^{9})$\n",
    "<br>\n",
    "$r = 1$\n",
    "\n",
    "$b = r * s_{x}/s_{y}$\n",
    "<br>\n",
    "<br>\n",
    "$s_{y} = \\sqrt($$\\sum_{}$$(y - $$\\bar y)^{2} /(n - 1)$\n",
    "<br>\n",
    "<br>\n",
    "= $\\sqrt(1.750 * 10^{9})/(6 - 1)$\n",
    "<br>\n",
    "$= 18.7 * 10^{3}$\n",
    "<br>\n",
    "\n",
    "$s_{x} = \\sqrt(17.5)/(6 - 1)$\n",
    "<br>\n",
    "$s_{x} = 1.87$\n",
    "<br>\n",
    "\n",
    "$b = 1 * 18700/1.87 = 10,000$ (slope)\n",
    "\n",
    "<br> \n",
    "\n",
    "Y interecept \n",
    "<br>\n",
    "\n",
    "$a = 45000 - (10,000 * 1997.5)$\n",
    "<br>\n",
    "$a = -19.93 * 10^6$\n",
    "\n",
    "<br>\n",
    "\n",
    "$y = a + bx$\n",
    "<br>\n",
    "$= -19.93 * 10 ^6 + 10,000 * x$\n",
    "<br>\n",
    "\n",
    "Predict house price for the year 2005\n",
    "\n",
    "$y = -19.93 * 10^6 + 10,000 * 2005$\n",
    "<br>\n",
    "$y = £120,000$\n"
   ]
  },
  {
   "cell_type": "code",
   "execution_count": 129,
   "metadata": {},
   "outputs": [
    {
     "data": {
      "text/plain": [
       "0.968550307612512"
      ]
     },
     "execution_count": 129,
     "metadata": {},
     "output_type": "execute_result"
    }
   ],
   "source": [
    "PREDICT_HOUSE_PRICE_DF = FILTERED_DISTRICTS[['Price', 'Year']].copy()\n",
    "\n",
    "\n",
    "column_1 = df[\"Price\"]\n",
    "column_2 = df[\"Year\"]\n",
    "correlation = column_1.corr(column_2)\n",
    "correlation"
   ]
  },
  {
   "cell_type": "code",
   "execution_count": 130,
   "metadata": {},
   "outputs": [
    {
     "data": {
      "text/plain": [
       "0.9685503076125118"
      ]
     },
     "execution_count": 130,
     "metadata": {},
     "output_type": "execute_result"
    }
   ],
   "source": [
    "def getHousePrice(df, year):\n",
    "    ## reset index as want to return dataframe not series back\n",
    "    df = df.groupby(['Year'])['Price'].mean().reset_index()\n",
    "    xMean = df['Year'].mean()\n",
    "    yMean = df['Price'].mean()\n",
    "    \n",
    "    df['x-meanx'] = df.apply(lambda row: row.Year - xMean, axis=1)\n",
    "    df['y-meany'] = df.apply(lambda row: row.Price - yMean, axis=1)\n",
    "    \n",
    "    df['x-meanx_multiply_y-meany'] = df.apply(lambda row: row['x-meanx'] * row['y-meany'], axis=1)\n",
    "    \n",
    "    df['x-meanx_squared'] = df.apply(lambda row: row['x-meanx']**2, axis=1)\n",
    "    df['y-meany_squared'] = df.apply(lambda row: row['y-meany']**2, axis=1)\n",
    "    \n",
    "    sum_x_mean_x_multiply_y_mean_y = df['x-meanx_multiply_y-meany'].sum()\n",
    "    sum_x_mean_x_squared = df['x-meanx_squared'].sum()\n",
    "    sum_y_mean_y_squared = df['y-meany_squared'].sum()\n",
    "    \n",
    "    correlationCoeffiecient = sum_x_mean_x_multiply_y_mean_y /   math.sqrt(sum_x_mean_x_squared*sum_y_mean_y_squared)\n",
    "    numberOfRecords = df['Price'].count()\n",
    "    \n",
    "    sx = math.sqrt(sum_x_mean_x_squared/(numberOfRecords-1))\n",
    "    sy = math.sqrt(sum_y_mean_y_squared/(numberOfRecords-1))\n",
    "    \n",
    "    b = correlationCoeffiecient * (sy/sx)\n",
    "    a = yMean - (b*xMean)\n",
    "    \n",
    "    return a + b * year\n",
    "    \n",
    "\n",
    "getHousePrice(PREDICT_HOUSE_PRICE_DF, 2016)"
   ]
  },
  {
   "cell_type": "code",
   "execution_count": 112,
   "metadata": {},
   "outputs": [
    {
     "data": {
      "text/html": [
       "<div>\n",
       "<style scoped>\n",
       "    .dataframe tbody tr th:only-of-type {\n",
       "        vertical-align: middle;\n",
       "    }\n",
       "\n",
       "    .dataframe tbody tr th {\n",
       "        vertical-align: top;\n",
       "    }\n",
       "\n",
       "    .dataframe thead th {\n",
       "        text-align: right;\n",
       "    }\n",
       "</style>\n",
       "<table border=\"1\" class=\"dataframe\">\n",
       "  <thead>\n",
       "    <tr style=\"text-align: right;\">\n",
       "      <th></th>\n",
       "      <th>Year</th>\n",
       "      <th>Price</th>\n",
       "      <th>price_predict</th>\n",
       "    </tr>\n",
       "  </thead>\n",
       "  <tbody>\n",
       "    <tr>\n",
       "      <th>0</th>\n",
       "      <td>1995</td>\n",
       "      <td>51762.603226</td>\n",
       "      <td>41866.997015</td>\n",
       "    </tr>\n",
       "    <tr>\n",
       "      <th>1</th>\n",
       "      <td>1996</td>\n",
       "      <td>53090.729918</td>\n",
       "      <td>49933.337833</td>\n",
       "    </tr>\n",
       "    <tr>\n",
       "      <th>2</th>\n",
       "      <td>1997</td>\n",
       "      <td>55899.274660</td>\n",
       "      <td>57999.678652</td>\n",
       "    </tr>\n",
       "    <tr>\n",
       "      <th>3</th>\n",
       "      <td>1998</td>\n",
       "      <td>59606.710410</td>\n",
       "      <td>66066.019470</td>\n",
       "    </tr>\n",
       "    <tr>\n",
       "      <th>4</th>\n",
       "      <td>1999</td>\n",
       "      <td>63785.908238</td>\n",
       "      <td>74132.360289</td>\n",
       "    </tr>\n",
       "    <tr>\n",
       "      <th>5</th>\n",
       "      <td>2000</td>\n",
       "      <td>70036.363255</td>\n",
       "      <td>82198.701107</td>\n",
       "    </tr>\n",
       "    <tr>\n",
       "      <th>6</th>\n",
       "      <td>2001</td>\n",
       "      <td>78091.664379</td>\n",
       "      <td>90265.041926</td>\n",
       "    </tr>\n",
       "    <tr>\n",
       "      <th>7</th>\n",
       "      <td>2002</td>\n",
       "      <td>92067.392798</td>\n",
       "      <td>98331.382744</td>\n",
       "    </tr>\n",
       "    <tr>\n",
       "      <th>8</th>\n",
       "      <td>2003</td>\n",
       "      <td>110943.944115</td>\n",
       "      <td>106397.723563</td>\n",
       "    </tr>\n",
       "    <tr>\n",
       "      <th>9</th>\n",
       "      <td>2004</td>\n",
       "      <td>128741.510000</td>\n",
       "      <td>114464.064382</td>\n",
       "    </tr>\n",
       "    <tr>\n",
       "      <th>10</th>\n",
       "      <td>2005</td>\n",
       "      <td>139630.052577</td>\n",
       "      <td>122530.405200</td>\n",
       "    </tr>\n",
       "    <tr>\n",
       "      <th>11</th>\n",
       "      <td>2006</td>\n",
       "      <td>151536.471033</td>\n",
       "      <td>130596.746019</td>\n",
       "    </tr>\n",
       "    <tr>\n",
       "      <th>12</th>\n",
       "      <td>2007</td>\n",
       "      <td>159505.619906</td>\n",
       "      <td>138663.086837</td>\n",
       "    </tr>\n",
       "    <tr>\n",
       "      <th>13</th>\n",
       "      <td>2008</td>\n",
       "      <td>154059.584837</td>\n",
       "      <td>146729.427656</td>\n",
       "    </tr>\n",
       "    <tr>\n",
       "      <th>14</th>\n",
       "      <td>2009</td>\n",
       "      <td>149127.162988</td>\n",
       "      <td>154795.768474</td>\n",
       "    </tr>\n",
       "    <tr>\n",
       "      <th>15</th>\n",
       "      <td>2010</td>\n",
       "      <td>158186.105883</td>\n",
       "      <td>162862.109293</td>\n",
       "    </tr>\n",
       "    <tr>\n",
       "      <th>16</th>\n",
       "      <td>2011</td>\n",
       "      <td>153280.645069</td>\n",
       "      <td>170928.450111</td>\n",
       "    </tr>\n",
       "    <tr>\n",
       "      <th>17</th>\n",
       "      <td>2012</td>\n",
       "      <td>155722.833626</td>\n",
       "      <td>178994.790930</td>\n",
       "    </tr>\n",
       "    <tr>\n",
       "      <th>18</th>\n",
       "      <td>2013</td>\n",
       "      <td>169285.092965</td>\n",
       "      <td>187061.131748</td>\n",
       "    </tr>\n",
       "    <tr>\n",
       "      <th>19</th>\n",
       "      <td>2014</td>\n",
       "      <td>187273.008688</td>\n",
       "      <td>195127.472567</td>\n",
       "    </tr>\n",
       "    <tr>\n",
       "      <th>20</th>\n",
       "      <td>2015</td>\n",
       "      <td>204708.902034</td>\n",
       "      <td>203193.813385</td>\n",
       "    </tr>\n",
       "    <tr>\n",
       "      <th>21</th>\n",
       "      <td>2016</td>\n",
       "      <td>206497.790342</td>\n",
       "      <td>211260.154204</td>\n",
       "    </tr>\n",
       "    <tr>\n",
       "      <th>22</th>\n",
       "      <td>2017</td>\n",
       "      <td>250885.787480</td>\n",
       "      <td>219326.495023</td>\n",
       "    </tr>\n",
       "  </tbody>\n",
       "</table>\n",
       "</div>"
      ],
      "text/plain": [
       "    Year          Price  price_predict\n",
       "0   1995   51762.603226   41866.997015\n",
       "1   1996   53090.729918   49933.337833\n",
       "2   1997   55899.274660   57999.678652\n",
       "3   1998   59606.710410   66066.019470\n",
       "4   1999   63785.908238   74132.360289\n",
       "5   2000   70036.363255   82198.701107\n",
       "6   2001   78091.664379   90265.041926\n",
       "7   2002   92067.392798   98331.382744\n",
       "8   2003  110943.944115  106397.723563\n",
       "9   2004  128741.510000  114464.064382\n",
       "10  2005  139630.052577  122530.405200\n",
       "11  2006  151536.471033  130596.746019\n",
       "12  2007  159505.619906  138663.086837\n",
       "13  2008  154059.584837  146729.427656\n",
       "14  2009  149127.162988  154795.768474\n",
       "15  2010  158186.105883  162862.109293\n",
       "16  2011  153280.645069  170928.450111\n",
       "17  2012  155722.833626  178994.790930\n",
       "18  2013  169285.092965  187061.131748\n",
       "19  2014  187273.008688  195127.472567\n",
       "20  2015  204708.902034  203193.813385\n",
       "21  2016  206497.790342  211260.154204\n",
       "22  2017  250885.787480  219326.495023"
      ]
     },
     "execution_count": 112,
     "metadata": {},
     "output_type": "execute_result"
    }
   ],
   "source": [
    "df = PREDICT_HOUSE_PRICE_DF.groupby(['Year'])['Price'].mean().reset_index()\n",
    "df['price_predict'] = df.apply(lambda row: getHousePrice(PREDICT_HOUSE_PRICE_DF, row['Year']), axis=1)\n",
    "df"
   ]
  },
  {
   "cell_type": "code",
   "execution_count": 127,
   "metadata": {},
   "outputs": [
    {
     "data": {
      "text/html": [
       "<div>\n",
       "<style scoped>\n",
       "    .dataframe tbody tr th:only-of-type {\n",
       "        vertical-align: middle;\n",
       "    }\n",
       "\n",
       "    .dataframe tbody tr th {\n",
       "        vertical-align: top;\n",
       "    }\n",
       "\n",
       "    .dataframe thead th {\n",
       "        text-align: right;\n",
       "    }\n",
       "</style>\n",
       "<table border=\"1\" class=\"dataframe\">\n",
       "  <thead>\n",
       "    <tr style=\"text-align: right;\">\n",
       "      <th></th>\n",
       "      <th>Year</th>\n",
       "      <th>price_predict</th>\n",
       "    </tr>\n",
       "  </thead>\n",
       "  <tbody>\n",
       "    <tr>\n",
       "      <th>81</th>\n",
       "      <td>2076</td>\n",
       "      <td>695240.603316</td>\n",
       "    </tr>\n",
       "    <tr>\n",
       "      <th>82</th>\n",
       "      <td>2077</td>\n",
       "      <td>703306.944135</td>\n",
       "    </tr>\n",
       "    <tr>\n",
       "      <th>83</th>\n",
       "      <td>2078</td>\n",
       "      <td>711373.284953</td>\n",
       "    </tr>\n",
       "    <tr>\n",
       "      <th>84</th>\n",
       "      <td>2079</td>\n",
       "      <td>719439.625772</td>\n",
       "    </tr>\n",
       "    <tr>\n",
       "      <th>85</th>\n",
       "      <td>2080</td>\n",
       "      <td>727505.966590</td>\n",
       "    </tr>\n",
       "  </tbody>\n",
       "</table>\n",
       "</div>"
      ],
      "text/plain": [
       "    Year  price_predict\n",
       "81  2076  695240.603316\n",
       "82  2077  703306.944135\n",
       "83  2078  711373.284953\n",
       "84  2079  719439.625772\n",
       "85  2080  727505.966590"
      ]
     },
     "execution_count": 127,
     "metadata": {},
     "output_type": "execute_result"
    }
   ],
   "source": [
    "years = np.arange(1995, 2081, 1)\n",
    "predict_df = pd.DataFrame(data=years, columns=['Year'])\n",
    "\n",
    "predict_df['price_predict'] = predict_df.apply(lambda row: getHousePrice(PREDICT_HOUSE_PRICE_DF, row['Year']), axis=1)\n",
    "predict_df.tail()"
   ]
  },
  {
   "cell_type": "markdown",
   "metadata": {},
   "source": [
    "# Project Outcome (10 + 10 marks)"
   ]
  },
  {
   "cell_type": "markdown",
   "metadata": {},
   "source": [
    "## Overview of Results"
   ]
  },
  {
   "cell_type": "markdown",
   "metadata": {},
   "source": [
    "# Objective 1: Get top 5 district for house sales"
   ]
  },
  {
   "cell_type": "markdown",
   "metadata": {},
   "source": [
    "**Objective 1**: Was to get the top 5 districts for house sales. Based on number of transactions.\n",
    "\n",
    "These were \n",
    "- Birmngham - 1.149 Million 2019\n",
    "- Leeds - 792,525 2019\n",
    "- Bradford - 536,986 2019\n",
    "- Manchester - 2,710,000 2019\n",
    "- Sheffield - 725,000 2019\n",
    "\n",
    "At first I was suprised to see Bradford in the list as thought it was much smaller city!"
   ]
  },
  {
   "cell_type": "markdown",
   "metadata": {},
   "source": [
    "Below you can see combined housing prices of the top 5 distrcits combined. \n",
    "- Reason I chosed top 5, was there would have more transactions. So sample size would be greater and able to gather more meaniful data. For example if a district only had 5 sales and one sale was for £200,000 and another for £1 this would massively skew results \n",
    "- You can see that the general pattern is that house prices are increasing. \n",
    "- In 2008 to about 2012 house prices fell short. Can make a logical guess it was related to housing bubble or market crash of 2008.\n",
    "- Even if you bought at 2008 and didn't sell you would still be massively in the green.\n",
    "- 2008 you bought for 175,000 and now its 2015 same house is going for over 200k percent increase.\n",
    "\n",
    "**concerns**\n",
    "- You can the \"shadow\" is greater. represents the confidence interval of the estimate\n",
    "- This is getting greater as times go on.\n",
    "- Meaning there exteremes between high and low properties are increasing.\n"
   ]
  },
  {
   "cell_type": "code",
   "execution_count": 143,
   "metadata": {},
   "outputs": [
    {
     "data": {
      "image/png": "[encoded data removed]",
      "text/plain": [
       "<Figure size 1080x576 with 1 Axes>"
      ]
     },
     "metadata": {},
     "output_type": "display_data"
    }
   ],
   "source": [
    "plt.figure(figsize=(15,8)) #A tuple containing width and height for the figure in inches \n",
    "\n",
    "sns.set_theme(style=\"darkgrid\") # I like the darkgrid theme!\n",
    "plot = sns.lineplot(x='Year', y='Price', data=FILTERED_DISTRICTS) #To display the Year and Price columns from the dataframe\n",
    "\n",
    "plot.axes.set_title(\"How property prices (£) are increasing over time (years)\",fontsize=30) #Set's title of the plot\n",
    "plot.set_xlabel(\"Years\",fontsize=15) # Set's x axis subtitle for the plot\n",
    "plot.set_ylabel(\"Prices (£)\",fontsize=15) # Set's y axis subtitle for the plot\n",
    "\n",
    "plt.show() # shows the plot"
   ]
  },
  {
   "cell_type": "markdown",
   "metadata": {},
   "source": [
    "Next want to split by distrcit\n",
    "- As property sales might be affected by the districts\n",
    "- Below you can Leeds, Sheffield, Manchester all follow very similar patterns. In terms of agression in the increase of prices\n",
    "- However you can see Bradford property prices have stayed stagnant since 2008. \n",
    "- This shows Bradford is not a good city to group the other 4 cities by.\n",
    "- As you can see on the Graph above beyond 2008 and the confidence interval of truth gets greater.\n",
    "- This is when Bradford prices per transaction stagnanted, which proves the graph doesn't show the whole story.\n",
    "\n",
    "**Note**: Below I chose to ignore CI, which ignores the confidence interanl. As it would have made the data hard to see."
   ]
  },
  {
   "cell_type": "code",
   "execution_count": 145,
   "metadata": {},
   "outputs": [
    {
     "data": {
      "image/png": "[encoded data removed]",
      "text/plain": [
       "<Figure size 1080x720 with 1 Axes>"
      ]
     },
     "metadata": {},
     "output_type": "display_data"
    }
   ],
   "source": [
    "plt.figure(figsize=(15,10)) #A tuple containing width and height for the figure in inches \n",
    "sns.set_theme(style=\"darkgrid\") # I like the darkgrid theme!\n",
    "\n",
    "plot = sns.lineplot(x='Year', y='Price', hue='District', data=FILTERED_DISTRICTS, ci= None) # To display the Year and Price columns from the dataframe\n",
    "\n",
    "plot.axes.set_title(\"How property prices (£) are increasing over time (years)\",fontsize=30) #Set's title of the plot\n",
    "plot.set_xlabel(\"Years\",fontsize=15) # Set's x axis subtitle for the plot\n",
    "plot.set_ylabel(\"Prices (£)\",fontsize=15) # Set's y axis subtitle for the plot\n",
    "\n",
    "plt.legend(loc='upper left') # Moves the legend to top left to not overlap the data\n",
    "\n",
    "plt.show() # shows the plot"
   ]
  },
  {
   "cell_type": "markdown",
   "metadata": {},
   "source": [
    "## Objective 2: Predict the cost of property"
   ]
  },
  {
   "cell_type": "markdown",
   "metadata": {},
   "source": [
    "**Objective 2**: Was to predict the cost of property in the future using data from the districts\n",
    "- Birmngham\n",
    "- Leeds\n",
    "- Bradford\n",
    "- Manchester\n",
    "- Sheffield\n",
    "\n",
    "It made logical sense to use the regplot visualtion on seaborn to predict what prices would be.\n",
    "This would draw a trendline showing future prices agaisnt years.\n",
    "\n",
    "only one issue, the blue line does really show much.\n",
    "This might be skewed due to the extremes of the highs and lows.\n",
    "\n",
    "Maybe if reduce the years of prices."
   ]
  },
  {
   "cell_type": "code",
   "execution_count": 148,
   "metadata": {},
   "outputs": [
    {
     "data": {
      "image/png": "[encoded data removed]",
      "text/plain": [
       "<Figure size 1080x720 with 1 Axes>"
      ]
     },
     "metadata": {},
     "output_type": "display_data"
    }
   ],
   "source": [
    "plt.figure(figsize=(15,10)) #A tuple containing width and height for the figure in inches \n",
    "sns.set_theme(style=\"darkgrid\") # I like the darkgrid theme!\n",
    "\n",
    "plot = sns.regplot(x = \"Year\", y = \"Price\", data = FILTERED_DISTRICTS, scatter_kws={\"color\": \"green\"}) # To display the Year and Price columns from the dataframe\n",
    "\n",
    "plot.axes.set_title(\"How property prices (£) are increasing over time (years)\",fontsize=30) #Set's title of the plot\n",
    "plot.set_xlabel(\"Years\",fontsize=15) # Set's x axis subtitle for the plot\n",
    "plot.set_ylabel(\"Prices (£)\",fontsize=15) # Set's y axis subtitle for the plot\n",
    "\n",
    "plt.show() # shows the plot"
   ]
  },
  {
   "cell_type": "markdown",
   "metadata": {},
   "source": [
    "No luck!\n",
    "\n",
    "Which shows that putting all the data into the regplot doesn't allow us to predict. "
   ]
  },
  {
   "cell_type": "code",
   "execution_count": 149,
   "metadata": {},
   "outputs": [
    {
     "data": {
      "image/png": "[encoded data removed]",
      "text/plain": [
       "<Figure size 1080x720 with 1 Axes>"
      ]
     },
     "metadata": {},
     "output_type": "display_data"
    }
   ],
   "source": [
    "plt.figure(figsize=(15,10)) #A tuple containing width and height for the figure in inches \n",
    "sns.set_theme(style=\"darkgrid\") # I like the darkgrid theme!\n",
    "\n",
    "plot = sns.regplot(x = \"Year\", y = \"Price\", data = FILTERED_DISTRICTS[FILTERED_DISTRICTS[\"Year\"]>2010], scatter_kws={\"color\": \"green\"}) # To display the Year and Price columns from the dataframe\n",
    "\n",
    "plot.axes.set_title(\"How property prices (£) are increasing over time (years)\",fontsize=30) #Set's title of the plot\n",
    "plot.set_xlabel(\"Years\",fontsize=15) # Set's x axis subtitle for the plot\n",
    "plot.set_ylabel(\"Prices (£)\",fontsize=15) # Set's y axis subtitle for the plot\n",
    "\n",
    "plt.show() # shows the plot"
   ]
  },
  {
   "cell_type": "markdown",
   "metadata": {},
   "source": [
    "So it made sense to group by district and get the mean.\n",
    "So average of each district was added by price.\n",
    "\n",
    "On a general notice you can see prices are going up."
   ]
  },
  {
   "cell_type": "code",
   "execution_count": 73,
   "metadata": {},
   "outputs": [
    {
     "data": {
      "image/png": "[encoded data removed]",
      "text/plain": [
       "<Figure size 1080x720 with 1 Axes>"
      ]
     },
     "metadata": {},
     "output_type": "display_data"
    }
   ],
   "source": [
    "MEAN_BY_YEAR = FILTERED_DISTRICTS.groupby(['Year', 'District'])['Price'].mean().reset_index()\n",
    "\n",
    "plt.figure(figsize=(15,10))\n",
    "sns.set_theme(style=\"darkgrid\")\n",
    "plt.xlim(1995, 2050)\n",
    "plt.ylim(0, 500000)\n",
    "sns.regplot(x = \"Year\", y = \"Price\",  data = MEAN_BY_YEAR, scatter_kws={\"color\": \"green\"}, ci=None, truncate=False)\n",
    "\n",
    "plt.show()"
   ]
  },
  {
   "cell_type": "markdown",
   "metadata": {},
   "source": [
    "You can see that price and year are very closely correlated. \n",
    "This means that future prices are very likely to follow this pattern.\n",
    "Not guranteed but likely possiblity!"
   ]
  },
  {
   "cell_type": "code",
   "execution_count": 74,
   "metadata": {},
   "outputs": [
    {
     "data": {
      "text/plain": [
       "0.9297678586968369"
      ]
     },
     "execution_count": 74,
     "metadata": {},
     "output_type": "execute_result"
    }
   ],
   "source": [
    "MEAN_BY_YEAR['Price'].corr(MEAN_BY_YEAR['Year'])\n"
   ]
  },
  {
   "cell_type": "markdown",
   "metadata": {},
   "source": [
    "Conclusion (5 marks)\n",
    "Your concluding section should be around 200-400 words. It is recommended that you divide it into the following sections._\n",
    "\n",
    "Acheivements\n",
    "As we had expected, the most popular fridge magnets were of the 'meme' kind. We were surprised that 'smiley' fridge magnets were less common than expected. We conjecture that this is because, although they are apparently very popular, few fridges display more than one smiley. However, 'meme' based magnets can be found in large numbers, even on quite small fridges.\n",
    "\n",
    "Limitations\n",
    "The project was limited to a small number of fridge magents, which may not be typical of fridges found in the global fridge magnet ecosystem.\n",
    "\n",
    "Future Work\n",
    "In future work we would like to obtain more diverse data and study fridge magnets beyond the limited confines of student accomodation. We hypothesise that there could be a link between fridge magnet types and social class and/or educational achievement"
   ]
  }
 ],
 "metadata": {
  "kernelspec": {
   "display_name": "Python 3 (ipykernel)",
   "language": "python",
   "name": "python3"
  },
  "language_info": {
   "codemirror_mode": {
    "name": "ipython",
    "version": 3
   },
   "file_extension": ".py",
   "mimetype": "text/x-python",
   "name": "python",
   "nbconvert_exporter": "python",
   "pygments_lexer": "ipython3",
   "version": "3.9.7"
  }
 },
 "nbformat": 4,
 "nbformat_minor": 4
}
